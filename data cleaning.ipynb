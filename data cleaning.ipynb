{
 "cells": [
  {
   "cell_type": "markdown",
   "metadata": {},
   "source": [
    "# Data Cleaning\n",
    "In this notebook, I lay out the steps I took to properly read the full Leiden Weibo Corpus CSV file as a pandas dataframe and clean aspects of the data which include: selecting certain columns, removing extraneous characters, removing rows that were incorrectly parsed by `pandas.read_csv`, changing data types of the corpus, and writing subsets of the data to various CSV files for future analysis."
   ]
  },
  {
   "cell_type": "code",
   "execution_count": 1,
   "metadata": {},
   "outputs": [],
   "source": [
    "# import required libraries\n",
    "import pandas as pd\n",
    "import matplotlib.pyplot as plt\n",
    "import seaborn as sns\n",
    "import numpy as np\n",
    "sns.set(style=\"darkgrid\")"
   ]
  },
  {
   "cell_type": "code",
   "execution_count": 2,
   "metadata": {},
   "outputs": [],
   "source": [
    "# assign columns\n",
    "col_names = [\"col\" + str(i) for i in range(1,10)]\n",
    "# load full data set and convert csv \\N to NaN in pandas dataframe\n",
    "AllData = pd.read_csv('lwc_data\\parsed_messages.csv', quotechar='\\\"', names=col_names, na_values='\\\\N')"
   ]
  },
  {
   "cell_type": "code",
   "execution_count": 3,
   "metadata": {},
   "outputs": [
    {
     "data": {
      "text/html": [
       "<div>\n",
       "<style scoped>\n",
       "    .dataframe tbody tr th:only-of-type {\n",
       "        vertical-align: middle;\n",
       "    }\n",
       "\n",
       "    .dataframe tbody tr th {\n",
       "        vertical-align: top;\n",
       "    }\n",
       "\n",
       "    .dataframe thead th {\n",
       "        text-align: right;\n",
       "    }\n",
       "</style>\n",
       "<table border=\"1\" class=\"dataframe\">\n",
       "  <thead>\n",
       "    <tr style=\"text-align: right;\">\n",
       "      <th></th>\n",
       "      <th>col1</th>\n",
       "      <th>col2</th>\n",
       "      <th>col3</th>\n",
       "      <th>col4</th>\n",
       "      <th>col5</th>\n",
       "      <th>col6</th>\n",
       "      <th>col7</th>\n",
       "      <th>col8</th>\n",
       "      <th>col9</th>\n",
       "    </tr>\n",
       "  </thead>\n",
       "  <tbody>\n",
       "    <tr>\n",
       "      <th>0</th>\n",
       "      <td>\"3399658666084059\"</td>\n",
       "      <td>\"44\"</td>\n",
       "      <td>\"1\"</td>\n",
       "      <td>\"m\"</td>\n",
       "      <td>\"soulleoo\"</td>\n",
       "      <td>\"一分耕耘，一分收获！//@soulleoo 的小小乐园的最具吸引力乐园为5031，超过@败...</td>\n",
       "      <td>\"25\"</td>\n",
       "      <td>\"一 分 耕耘 ， 一 分 收获 ！ 的 小小 乐园 的 最 具 吸引力 乐园 为 5031...</td>\n",
       "      <td>\"一/CD 分/M 耕耘/VV ，/PU 一/CD 分/M 收获/NN ！/PU 的/DEG...</td>\n",
       "    </tr>\n",
       "    <tr>\n",
       "      <th>1</th>\n",
       "      <td>\"3399658666083922\"</td>\n",
       "      <td>\"35\"</td>\n",
       "      <td>\"1\"</td>\n",
       "      <td>\"m\"</td>\n",
       "      <td>\"Tony_Heqi\"</td>\n",
       "      <td>\"太给力了，是不是？//@Tony_Heqi 在达人麻将 获得了成就Good Job!，获取...</td>\n",
       "      <td>\"36\"</td>\n",
       "      <td>\"太 给力 了 ， 是 不 是 ？ 在 达人 麻将 获得 了 成就 Good Job ， 获...</td>\n",
       "      <td>\"太/AD 给力/VV 了/AS ，/PU 是/VC 不/AD 是/VC ？/PU 在/P ...</td>\n",
       "    </tr>\n",
       "    <tr>\n",
       "      <th>2</th>\n",
       "      <td>\"3399658665799759\"</td>\n",
       "      <td>\"44\"</td>\n",
       "      <td>\"8\"</td>\n",
       "      <td>\"f\"</td>\n",
       "      <td>\"謝秋如\"</td>\n",
       "      <td>\"3399658665799719\"</td>\n",
       "      <td>NaN</td>\n",
       "      <td>NaN</td>\n",
       "      <td>NaN</td>\n",
       "    </tr>\n",
       "    <tr>\n",
       "      <th>3</th>\n",
       "      <td>\"3399658665799554\"</td>\n",
       "      <td>\"44\"</td>\n",
       "      <td>\"3\"</td>\n",
       "      <td>\"m\"</td>\n",
       "      <td>\"yinjiawei\"</td>\n",
       "      <td>\"3399658665799504\"</td>\n",
       "      <td>NaN</td>\n",
       "      <td>NaN</td>\n",
       "      <td>NaN</td>\n",
       "    </tr>\n",
       "    <tr>\n",
       "      <th>4</th>\n",
       "      <td>\"3399658665575454\"</td>\n",
       "      <td>\"31\"</td>\n",
       "      <td>\"1000\"</td>\n",
       "      <td>\"m\"</td>\n",
       "      <td>\"Wings_of_Winds\"</td>\n",
       "      <td>\"为什么每次不在中国都会在他们家？@田鸡W @-RJ-爱喝乙醇的甲醇\"</td>\n",
       "      <td>\"12\"</td>\n",
       "      <td>\"为什么 每 次 不 在 中国 都 会 在 他们 家 ？\"</td>\n",
       "      <td>\"为什么/AD 每/DT 次/M 不/AD 在/P 中国/NR 都/AD 会/VV 在/P ...</td>\n",
       "    </tr>\n",
       "  </tbody>\n",
       "</table>\n",
       "</div>"
      ],
      "text/plain": [
       "                 col1  col2    col3 col4              col5  \\\n",
       "0  \"3399658666084059\"  \"44\"     \"1\"  \"m\"        \"soulleoo\"   \n",
       "1  \"3399658666083922\"  \"35\"     \"1\"  \"m\"       \"Tony_Heqi\"   \n",
       "2  \"3399658665799759\"  \"44\"     \"8\"  \"f\"             \"謝秋如\"   \n",
       "3  \"3399658665799554\"  \"44\"     \"3\"  \"m\"       \"yinjiawei\"   \n",
       "4  \"3399658665575454\"  \"31\"  \"1000\"  \"m\"  \"Wings_of_Winds\"   \n",
       "\n",
       "                                                col6  col7  \\\n",
       "0  \"一分耕耘，一分收获！//@soulleoo 的小小乐园的最具吸引力乐园为5031，超过@败...  \"25\"   \n",
       "1  \"太给力了，是不是？//@Tony_Heqi 在达人麻将 获得了成就Good Job!，获取...  \"36\"   \n",
       "2                                 \"3399658665799719\"   NaN   \n",
       "3                                 \"3399658665799504\"   NaN   \n",
       "4                \"为什么每次不在中国都会在他们家？@田鸡W @-RJ-爱喝乙醇的甲醇\"  \"12\"   \n",
       "\n",
       "                                                col8  \\\n",
       "0  \"一 分 耕耘 ， 一 分 收获 ！ 的 小小 乐园 的 最 具 吸引力 乐园 为 5031...   \n",
       "1  \"太 给力 了 ， 是 不 是 ？ 在 达人 麻将 获得 了 成就 Good Job ， 获...   \n",
       "2                                                NaN   \n",
       "3                                                NaN   \n",
       "4                      \"为什么 每 次 不 在 中国 都 会 在 他们 家 ？\"   \n",
       "\n",
       "                                                col9  \n",
       "0  \"一/CD 分/M 耕耘/VV ，/PU 一/CD 分/M 收获/NN ！/PU 的/DEG...  \n",
       "1  \"太/AD 给力/VV 了/AS ，/PU 是/VC 不/AD 是/VC ？/PU 在/P ...  \n",
       "2                                                NaN  \n",
       "3                                                NaN  \n",
       "4  \"为什么/AD 每/DT 次/M 不/AD 在/P 中国/NR 都/AD 会/VV 在/P ...  "
      ]
     },
     "execution_count": 3,
     "metadata": {},
     "output_type": "execute_result"
    }
   ],
   "source": [
    "AllData.head()"
   ]
  },
  {
   "cell_type": "markdown",
   "metadata": {},
   "source": [
    "These are the columns of the full data set as noted on the Leiden Weibo Corpus [website](http://lwc.daanvanesch.nl/openaccess.php)."
   ]
  },
  {
   "cell_type": "code",
   "execution_count": 4,
   "metadata": {},
   "outputs": [],
   "source": [
    "# rename columns\n",
    "AllData.columns = ['MessageID', 'Province', 'City', 'Gender', 'Username', 'Message', 'NumWords', 'WithWordBounds', 'POStags']"
   ]
  },
  {
   "cell_type": "code",
   "execution_count": 5,
   "metadata": {},
   "outputs": [
    {
     "data": {
      "text/html": [
       "<div>\n",
       "<style scoped>\n",
       "    .dataframe tbody tr th:only-of-type {\n",
       "        vertical-align: middle;\n",
       "    }\n",
       "\n",
       "    .dataframe tbody tr th {\n",
       "        vertical-align: top;\n",
       "    }\n",
       "\n",
       "    .dataframe thead th {\n",
       "        text-align: right;\n",
       "    }\n",
       "</style>\n",
       "<table border=\"1\" class=\"dataframe\">\n",
       "  <thead>\n",
       "    <tr style=\"text-align: right;\">\n",
       "      <th></th>\n",
       "      <th>MessageID</th>\n",
       "      <th>Province</th>\n",
       "      <th>City</th>\n",
       "      <th>Gender</th>\n",
       "      <th>Username</th>\n",
       "      <th>Message</th>\n",
       "      <th>NumWords</th>\n",
       "      <th>WithWordBounds</th>\n",
       "      <th>POStags</th>\n",
       "    </tr>\n",
       "  </thead>\n",
       "  <tbody>\n",
       "    <tr>\n",
       "      <th>0</th>\n",
       "      <td>\"3399658666084059\"</td>\n",
       "      <td>\"44\"</td>\n",
       "      <td>\"1\"</td>\n",
       "      <td>\"m\"</td>\n",
       "      <td>\"soulleoo\"</td>\n",
       "      <td>\"一分耕耘，一分收获！//@soulleoo 的小小乐园的最具吸引力乐园为5031，超过@败...</td>\n",
       "      <td>\"25\"</td>\n",
       "      <td>\"一 分 耕耘 ， 一 分 收获 ！ 的 小小 乐园 的 最 具 吸引力 乐园 为 5031...</td>\n",
       "      <td>\"一/CD 分/M 耕耘/VV ，/PU 一/CD 分/M 收获/NN ！/PU 的/DEG...</td>\n",
       "    </tr>\n",
       "    <tr>\n",
       "      <th>1</th>\n",
       "      <td>\"3399658666083922\"</td>\n",
       "      <td>\"35\"</td>\n",
       "      <td>\"1\"</td>\n",
       "      <td>\"m\"</td>\n",
       "      <td>\"Tony_Heqi\"</td>\n",
       "      <td>\"太给力了，是不是？//@Tony_Heqi 在达人麻将 获得了成就Good Job!，获取...</td>\n",
       "      <td>\"36\"</td>\n",
       "      <td>\"太 给力 了 ， 是 不 是 ？ 在 达人 麻将 获得 了 成就 Good Job ， 获...</td>\n",
       "      <td>\"太/AD 给力/VV 了/AS ，/PU 是/VC 不/AD 是/VC ？/PU 在/P ...</td>\n",
       "    </tr>\n",
       "    <tr>\n",
       "      <th>2</th>\n",
       "      <td>\"3399658665799759\"</td>\n",
       "      <td>\"44\"</td>\n",
       "      <td>\"8\"</td>\n",
       "      <td>\"f\"</td>\n",
       "      <td>\"謝秋如\"</td>\n",
       "      <td>\"3399658665799719\"</td>\n",
       "      <td>NaN</td>\n",
       "      <td>NaN</td>\n",
       "      <td>NaN</td>\n",
       "    </tr>\n",
       "    <tr>\n",
       "      <th>3</th>\n",
       "      <td>\"3399658665799554\"</td>\n",
       "      <td>\"44\"</td>\n",
       "      <td>\"3\"</td>\n",
       "      <td>\"m\"</td>\n",
       "      <td>\"yinjiawei\"</td>\n",
       "      <td>\"3399658665799504\"</td>\n",
       "      <td>NaN</td>\n",
       "      <td>NaN</td>\n",
       "      <td>NaN</td>\n",
       "    </tr>\n",
       "    <tr>\n",
       "      <th>4</th>\n",
       "      <td>\"3399658665575454\"</td>\n",
       "      <td>\"31\"</td>\n",
       "      <td>\"1000\"</td>\n",
       "      <td>\"m\"</td>\n",
       "      <td>\"Wings_of_Winds\"</td>\n",
       "      <td>\"为什么每次不在中国都会在他们家？@田鸡W @-RJ-爱喝乙醇的甲醇\"</td>\n",
       "      <td>\"12\"</td>\n",
       "      <td>\"为什么 每 次 不 在 中国 都 会 在 他们 家 ？\"</td>\n",
       "      <td>\"为什么/AD 每/DT 次/M 不/AD 在/P 中国/NR 都/AD 会/VV 在/P ...</td>\n",
       "    </tr>\n",
       "  </tbody>\n",
       "</table>\n",
       "</div>"
      ],
      "text/plain": [
       "            MessageID Province    City Gender          Username  \\\n",
       "0  \"3399658666084059\"     \"44\"     \"1\"    \"m\"        \"soulleoo\"   \n",
       "1  \"3399658666083922\"     \"35\"     \"1\"    \"m\"       \"Tony_Heqi\"   \n",
       "2  \"3399658665799759\"     \"44\"     \"8\"    \"f\"             \"謝秋如\"   \n",
       "3  \"3399658665799554\"     \"44\"     \"3\"    \"m\"       \"yinjiawei\"   \n",
       "4  \"3399658665575454\"     \"31\"  \"1000\"    \"m\"  \"Wings_of_Winds\"   \n",
       "\n",
       "                                             Message NumWords  \\\n",
       "0  \"一分耕耘，一分收获！//@soulleoo 的小小乐园的最具吸引力乐园为5031，超过@败...     \"25\"   \n",
       "1  \"太给力了，是不是？//@Tony_Heqi 在达人麻将 获得了成就Good Job!，获取...     \"36\"   \n",
       "2                                 \"3399658665799719\"      NaN   \n",
       "3                                 \"3399658665799504\"      NaN   \n",
       "4                \"为什么每次不在中国都会在他们家？@田鸡W @-RJ-爱喝乙醇的甲醇\"     \"12\"   \n",
       "\n",
       "                                      WithWordBounds  \\\n",
       "0  \"一 分 耕耘 ， 一 分 收获 ！ 的 小小 乐园 的 最 具 吸引力 乐园 为 5031...   \n",
       "1  \"太 给力 了 ， 是 不 是 ？ 在 达人 麻将 获得 了 成就 Good Job ， 获...   \n",
       "2                                                NaN   \n",
       "3                                                NaN   \n",
       "4                      \"为什么 每 次 不 在 中国 都 会 在 他们 家 ？\"   \n",
       "\n",
       "                                             POStags  \n",
       "0  \"一/CD 分/M 耕耘/VV ，/PU 一/CD 分/M 收获/NN ！/PU 的/DEG...  \n",
       "1  \"太/AD 给力/VV 了/AS ，/PU 是/VC 不/AD 是/VC ？/PU 在/P ...  \n",
       "2                                                NaN  \n",
       "3                                                NaN  \n",
       "4  \"为什么/AD 每/DT 次/M 不/AD 在/P 中国/NR 都/AD 会/VV 在/P ...  "
      ]
     },
     "execution_count": 5,
     "metadata": {},
     "output_type": "execute_result"
    }
   ],
   "source": [
    "AllData.head()"
   ]
  },
  {
   "cell_type": "code",
   "execution_count": 6,
   "metadata": {},
   "outputs": [
    {
     "data": {
      "text/html": [
       "<div>\n",
       "<style scoped>\n",
       "    .dataframe tbody tr th:only-of-type {\n",
       "        vertical-align: middle;\n",
       "    }\n",
       "\n",
       "    .dataframe tbody tr th {\n",
       "        vertical-align: top;\n",
       "    }\n",
       "\n",
       "    .dataframe thead th {\n",
       "        text-align: right;\n",
       "    }\n",
       "</style>\n",
       "<table border=\"1\" class=\"dataframe\">\n",
       "  <thead>\n",
       "    <tr style=\"text-align: right;\">\n",
       "      <th></th>\n",
       "      <th>MessageID</th>\n",
       "      <th>Province</th>\n",
       "      <th>City</th>\n",
       "      <th>Gender</th>\n",
       "      <th>Username</th>\n",
       "      <th>Message</th>\n",
       "      <th>NumWords</th>\n",
       "      <th>WithWordBounds</th>\n",
       "      <th>POStags</th>\n",
       "    </tr>\n",
       "  </thead>\n",
       "  <tbody>\n",
       "    <tr>\n",
       "      <th>5103591</th>\n",
       "      <td>\"3407331444661006\"</td>\n",
       "      <td>\"32\"</td>\n",
       "      <td>\"1\"</td>\n",
       "      <td>\"f\"</td>\n",
       "      <td>\"damondede\"</td>\n",
       "      <td>\"还是烦，我在烦恼什么却不清楚\"</td>\n",
       "      <td>NaN</td>\n",
       "      <td>NaN</td>\n",
       "      <td>NaN</td>\n",
       "    </tr>\n",
       "    <tr>\n",
       "      <th>5103592</th>\n",
       "      <td>\"3407331444404506\"</td>\n",
       "      <td>\"44\"</td>\n",
       "      <td>\"13\"</td>\n",
       "      <td>\"m\"</td>\n",
       "      <td>\"陈乐明_希望如此\"</td>\n",
       "      <td>\"呜呜！手手！掉扣了！！[泪][泪][衰]  今天吃一个苹果  手就掉扣了！一天一苹果医生接...</td>\n",
       "      <td>NaN</td>\n",
       "      <td>NaN</td>\n",
       "      <td>NaN</td>\n",
       "    </tr>\n",
       "    <tr>\n",
       "      <th>5103593</th>\n",
       "      <td>\"3407331444369205\"</td>\n",
       "      <td>\"11\"</td>\n",
       "      <td>\"1000\"</td>\n",
       "      <td>\"m\"</td>\n",
       "      <td>\"黄硕harry\"</td>\n",
       "      <td>\"-_</td>\n",
       "      <td>发现出处了，上微博的人不会不知道这个表情的....哈哈哈哈[喝多了]\"</td>\n",
       "      <td>NaN</td>\n",
       "      <td>NaN</td>\n",
       "    </tr>\n",
       "    <tr>\n",
       "      <th>5103594</th>\n",
       "      <td>\"3407331444369201\"</td>\n",
       "      <td>\"44\"</td>\n",
       "      <td>\"7\"</td>\n",
       "      <td>\"m\"</td>\n",
       "      <td>\"Long_love\"</td>\n",
       "      <td>\"分享图片[黑线]\"</td>\n",
       "      <td>NaN</td>\n",
       "      <td>NaN</td>\n",
       "      <td>NaN</td>\n",
       "    </tr>\n",
       "    <tr>\n",
       "      <th>5103595</th>\n",
       "      <td>\"3407331443121006\"</td>\n",
       "      <td>\"31\"</td>\n",
       "      <td>\"1000\"</td>\n",
       "      <td>\"f\"</td>\n",
       "      <td>\"极品ET\"</td>\n",
       "      <td>\"有种说法，25岁是个界限，这以后别轻易换恋人，因为性格已经定型，很难再与他人磨合。在看戏这...</td>\n",
       "      <td>NaN</td>\n",
       "      <td>NaN</td>\n",
       "      <td>NaN</td>\n",
       "    </tr>\n",
       "  </tbody>\n",
       "</table>\n",
       "</div>"
      ],
      "text/plain": [
       "                  MessageID Province    City Gender     Username  \\\n",
       "5103591  \"3407331444661006\"     \"32\"     \"1\"    \"f\"  \"damondede\"   \n",
       "5103592  \"3407331444404506\"     \"44\"    \"13\"    \"m\"   \"陈乐明_希望如此\"   \n",
       "5103593  \"3407331444369205\"     \"11\"  \"1000\"    \"m\"    \"黄硕harry\"   \n",
       "5103594  \"3407331444369201\"     \"44\"     \"7\"    \"m\"  \"Long_love\"   \n",
       "5103595  \"3407331443121006\"     \"31\"  \"1000\"    \"f\"       \"极品ET\"   \n",
       "\n",
       "                                                   Message  \\\n",
       "5103591                                   \"还是烦，我在烦恼什么却不清楚\"   \n",
       "5103592  \"呜呜！手手！掉扣了！！[泪][泪][衰]  今天吃一个苹果  手就掉扣了！一天一苹果医生接...   \n",
       "5103593                                                \"-_   \n",
       "5103594                                         \"分享图片[黑线]\"   \n",
       "5103595  \"有种说法，25岁是个界限，这以后别轻易换恋人，因为性格已经定型，很难再与他人磨合。在看戏这...   \n",
       "\n",
       "                                     NumWords WithWordBounds POStags  \n",
       "5103591                                   NaN            NaN     NaN  \n",
       "5103592                                   NaN            NaN     NaN  \n",
       "5103593   发现出处了，上微博的人不会不知道这个表情的....哈哈哈哈[喝多了]\"            NaN     NaN  \n",
       "5103594                                   NaN            NaN     NaN  \n",
       "5103595                                   NaN            NaN     NaN  "
      ]
     },
     "execution_count": 6,
     "metadata": {},
     "output_type": "execute_result"
    }
   ],
   "source": [
    "AllData.tail()"
   ]
  },
  {
   "cell_type": "markdown",
   "metadata": {},
   "source": [
    "## Various Cleaning Endeavors\n",
    "Some entries in the original CSV are strings with commas in them. This in turn appears to manifest as an error in how pandas reads the CSV file as a dataframe. This should be taken into account with all future assumptions of the data. \n",
    "\n",
    "### Subsetting the Data\n",
    "Going forward only the message and demographic data are important so I select the following columns."
   ]
  },
  {
   "cell_type": "code",
   "execution_count": 7,
   "metadata": {},
   "outputs": [],
   "source": [
    "# subset message and demographic data\n",
    "AllMessages = AllData[['MessageID', 'Province', 'City', 'Gender', 'Message']]"
   ]
  },
  {
   "cell_type": "code",
   "execution_count": 8,
   "metadata": {},
   "outputs": [
    {
     "data": {
      "text/html": [
       "<div>\n",
       "<style scoped>\n",
       "    .dataframe tbody tr th:only-of-type {\n",
       "        vertical-align: middle;\n",
       "    }\n",
       "\n",
       "    .dataframe tbody tr th {\n",
       "        vertical-align: top;\n",
       "    }\n",
       "\n",
       "    .dataframe thead th {\n",
       "        text-align: right;\n",
       "    }\n",
       "</style>\n",
       "<table border=\"1\" class=\"dataframe\">\n",
       "  <thead>\n",
       "    <tr style=\"text-align: right;\">\n",
       "      <th></th>\n",
       "      <th>MessageID</th>\n",
       "      <th>Province</th>\n",
       "      <th>City</th>\n",
       "      <th>Gender</th>\n",
       "      <th>Message</th>\n",
       "    </tr>\n",
       "  </thead>\n",
       "  <tbody>\n",
       "    <tr>\n",
       "      <th>0</th>\n",
       "      <td>\"3399658666084059\"</td>\n",
       "      <td>\"44\"</td>\n",
       "      <td>\"1\"</td>\n",
       "      <td>\"m\"</td>\n",
       "      <td>\"一分耕耘，一分收获！//@soulleoo 的小小乐园的最具吸引力乐园为5031，超过@败...</td>\n",
       "    </tr>\n",
       "    <tr>\n",
       "      <th>1</th>\n",
       "      <td>\"3399658666083922\"</td>\n",
       "      <td>\"35\"</td>\n",
       "      <td>\"1\"</td>\n",
       "      <td>\"m\"</td>\n",
       "      <td>\"太给力了，是不是？//@Tony_Heqi 在达人麻将 获得了成就Good Job!，获取...</td>\n",
       "    </tr>\n",
       "    <tr>\n",
       "      <th>2</th>\n",
       "      <td>\"3399658665799759\"</td>\n",
       "      <td>\"44\"</td>\n",
       "      <td>\"8\"</td>\n",
       "      <td>\"f\"</td>\n",
       "      <td>\"3399658665799719\"</td>\n",
       "    </tr>\n",
       "    <tr>\n",
       "      <th>3</th>\n",
       "      <td>\"3399658665799554\"</td>\n",
       "      <td>\"44\"</td>\n",
       "      <td>\"3\"</td>\n",
       "      <td>\"m\"</td>\n",
       "      <td>\"3399658665799504\"</td>\n",
       "    </tr>\n",
       "    <tr>\n",
       "      <th>4</th>\n",
       "      <td>\"3399658665575454\"</td>\n",
       "      <td>\"31\"</td>\n",
       "      <td>\"1000\"</td>\n",
       "      <td>\"m\"</td>\n",
       "      <td>\"为什么每次不在中国都会在他们家？@田鸡W @-RJ-爱喝乙醇的甲醇\"</td>\n",
       "    </tr>\n",
       "  </tbody>\n",
       "</table>\n",
       "</div>"
      ],
      "text/plain": [
       "            MessageID Province    City Gender  \\\n",
       "0  \"3399658666084059\"     \"44\"     \"1\"    \"m\"   \n",
       "1  \"3399658666083922\"     \"35\"     \"1\"    \"m\"   \n",
       "2  \"3399658665799759\"     \"44\"     \"8\"    \"f\"   \n",
       "3  \"3399658665799554\"     \"44\"     \"3\"    \"m\"   \n",
       "4  \"3399658665575454\"     \"31\"  \"1000\"    \"m\"   \n",
       "\n",
       "                                             Message  \n",
       "0  \"一分耕耘，一分收获！//@soulleoo 的小小乐园的最具吸引力乐园为5031，超过@败...  \n",
       "1  \"太给力了，是不是？//@Tony_Heqi 在达人麻将 获得了成就Good Job!，获取...  \n",
       "2                                 \"3399658665799719\"  \n",
       "3                                 \"3399658665799504\"  \n",
       "4                \"为什么每次不在中国都会在他们家？@田鸡W @-RJ-爱喝乙醇的甲醇\"  "
      ]
     },
     "execution_count": 8,
     "metadata": {},
     "output_type": "execute_result"
    }
   ],
   "source": [
    "AllMessages.head()"
   ]
  },
  {
   "cell_type": "markdown",
   "metadata": {},
   "source": [
    "### Removing Extraneous Characters\n",
    "In the original CSV file, each entry is encapsulate by double quotes (i.e. \"content\") despite being initialized as strings by default, thus, I strip these characters initially."
   ]
  },
  {
   "cell_type": "code",
   "execution_count": 9,
   "metadata": {},
   "outputs": [
    {
     "name": "stderr",
     "output_type": "stream",
     "text": [
      "C:\\Users\\hobbs\\Anaconda3\\lib\\site-packages\\ipykernel_launcher.py:2: SettingWithCopyWarning: \n",
      "A value is trying to be set on a copy of a slice from a DataFrame.\n",
      "Try using .loc[row_indexer,col_indexer] = value instead\n",
      "\n",
      "See the caveats in the documentation: https://pandas.pydata.org/pandas-docs/stable/user_guide/indexing.html#returning-a-view-versus-a-copy\n",
      "  \n",
      "C:\\Users\\hobbs\\Anaconda3\\lib\\site-packages\\ipykernel_launcher.py:3: SettingWithCopyWarning: \n",
      "A value is trying to be set on a copy of a slice from a DataFrame.\n",
      "Try using .loc[row_indexer,col_indexer] = value instead\n",
      "\n",
      "See the caveats in the documentation: https://pandas.pydata.org/pandas-docs/stable/user_guide/indexing.html#returning-a-view-versus-a-copy\n",
      "  This is separate from the ipykernel package so we can avoid doing imports until\n",
      "C:\\Users\\hobbs\\Anaconda3\\lib\\site-packages\\ipykernel_launcher.py:4: SettingWithCopyWarning: \n",
      "A value is trying to be set on a copy of a slice from a DataFrame.\n",
      "Try using .loc[row_indexer,col_indexer] = value instead\n",
      "\n",
      "See the caveats in the documentation: https://pandas.pydata.org/pandas-docs/stable/user_guide/indexing.html#returning-a-view-versus-a-copy\n",
      "  after removing the cwd from sys.path.\n",
      "C:\\Users\\hobbs\\Anaconda3\\lib\\site-packages\\ipykernel_launcher.py:5: SettingWithCopyWarning: \n",
      "A value is trying to be set on a copy of a slice from a DataFrame.\n",
      "Try using .loc[row_indexer,col_indexer] = value instead\n",
      "\n",
      "See the caveats in the documentation: https://pandas.pydata.org/pandas-docs/stable/user_guide/indexing.html#returning-a-view-versus-a-copy\n",
      "  \"\"\"\n",
      "C:\\Users\\hobbs\\Anaconda3\\lib\\site-packages\\ipykernel_launcher.py:6: SettingWithCopyWarning: \n",
      "A value is trying to be set on a copy of a slice from a DataFrame.\n",
      "Try using .loc[row_indexer,col_indexer] = value instead\n",
      "\n",
      "See the caveats in the documentation: https://pandas.pydata.org/pandas-docs/stable/user_guide/indexing.html#returning-a-view-versus-a-copy\n",
      "  \n"
     ]
    }
   ],
   "source": [
    "# remove extraneous double quotes \n",
    "AllMessages['MessageID'] = AllMessages['MessageID'].str.replace(\"\\\"\", \"\")\n",
    "AllMessages['Province'] = AllMessages['Province'].str.replace(\"\\\"\", \"\")\n",
    "AllMessages['City'] = AllMessages['City'].str.replace(\"\\\"\", \"\")\n",
    "AllMessages['Gender'] = AllMessages['Gender'].str.replace(\"\\\"\", \"\")\n",
    "AllMessages['Message'] = AllMessages['Message'].str.replace(\"\\\"\", \"\")"
   ]
  },
  {
   "cell_type": "code",
   "execution_count": 10,
   "metadata": {},
   "outputs": [
    {
     "data": {
      "text/html": [
       "<div>\n",
       "<style scoped>\n",
       "    .dataframe tbody tr th:only-of-type {\n",
       "        vertical-align: middle;\n",
       "    }\n",
       "\n",
       "    .dataframe tbody tr th {\n",
       "        vertical-align: top;\n",
       "    }\n",
       "\n",
       "    .dataframe thead th {\n",
       "        text-align: right;\n",
       "    }\n",
       "</style>\n",
       "<table border=\"1\" class=\"dataframe\">\n",
       "  <thead>\n",
       "    <tr style=\"text-align: right;\">\n",
       "      <th></th>\n",
       "      <th>MessageID</th>\n",
       "      <th>Province</th>\n",
       "      <th>City</th>\n",
       "      <th>Gender</th>\n",
       "      <th>Message</th>\n",
       "    </tr>\n",
       "  </thead>\n",
       "  <tbody>\n",
       "    <tr>\n",
       "      <th>0</th>\n",
       "      <td>3399658666084059</td>\n",
       "      <td>44</td>\n",
       "      <td>1</td>\n",
       "      <td>m</td>\n",
       "      <td>一分耕耘，一分收获！//@soulleoo 的小小乐园的最具吸引力乐园为5031，超过@败家...</td>\n",
       "    </tr>\n",
       "    <tr>\n",
       "      <th>1</th>\n",
       "      <td>3399658666083922</td>\n",
       "      <td>35</td>\n",
       "      <td>1</td>\n",
       "      <td>m</td>\n",
       "      <td>太给力了，是不是？//@Tony_Heqi 在达人麻将 获得了成就Good Job!，获取速...</td>\n",
       "    </tr>\n",
       "    <tr>\n",
       "      <th>2</th>\n",
       "      <td>3399658665799759</td>\n",
       "      <td>44</td>\n",
       "      <td>8</td>\n",
       "      <td>f</td>\n",
       "      <td>3399658665799719</td>\n",
       "    </tr>\n",
       "    <tr>\n",
       "      <th>3</th>\n",
       "      <td>3399658665799554</td>\n",
       "      <td>44</td>\n",
       "      <td>3</td>\n",
       "      <td>m</td>\n",
       "      <td>3399658665799504</td>\n",
       "    </tr>\n",
       "    <tr>\n",
       "      <th>4</th>\n",
       "      <td>3399658665575454</td>\n",
       "      <td>31</td>\n",
       "      <td>1000</td>\n",
       "      <td>m</td>\n",
       "      <td>为什么每次不在中国都会在他们家？@田鸡W @-RJ-爱喝乙醇的甲醇</td>\n",
       "    </tr>\n",
       "  </tbody>\n",
       "</table>\n",
       "</div>"
      ],
      "text/plain": [
       "          MessageID Province  City Gender  \\\n",
       "0  3399658666084059       44     1      m   \n",
       "1  3399658666083922       35     1      m   \n",
       "2  3399658665799759       44     8      f   \n",
       "3  3399658665799554       44     3      m   \n",
       "4  3399658665575454       31  1000      m   \n",
       "\n",
       "                                             Message  \n",
       "0  一分耕耘，一分收获！//@soulleoo 的小小乐园的最具吸引力乐园为5031，超过@败家...  \n",
       "1  太给力了，是不是？//@Tony_Heqi 在达人麻将 获得了成就Good Job!，获取速...  \n",
       "2                                   3399658665799719  \n",
       "3                                   3399658665799504  \n",
       "4                  为什么每次不在中国都会在他们家？@田鸡W @-RJ-爱喝乙醇的甲醇  "
      ]
     },
     "execution_count": 10,
     "metadata": {},
     "output_type": "execute_result"
    }
   ],
   "source": [
    "AllMessages.head()"
   ]
  },
  {
   "cell_type": "markdown",
   "metadata": {},
   "source": [
    "### Removing Misparsed Data\n",
    "I found that 128 rows were incorrectly read in pandas's read_csv function such that `Gender` is incorrectly coded.  conclude the 128 incorrectly coded rows are insignificant compared to the at large 5103596 rows of data read from the CSV file, thus, I remove these rows for convenience in future analysis."
   ]
  },
  {
   "cell_type": "code",
   "execution_count": 11,
   "metadata": {
    "scrolled": true
   },
   "outputs": [
    {
     "data": {
      "text/plain": [
       "0          m\n",
       "1          m\n",
       "2          f\n",
       "3          m\n",
       "4          m\n",
       "          ..\n",
       "5103591    f\n",
       "5103592    m\n",
       "5103593    m\n",
       "5103594    m\n",
       "5103595    f\n",
       "Name: Gender, Length: 5103596, dtype: object"
      ]
     },
     "execution_count": 11,
     "metadata": {},
     "output_type": "execute_result"
    }
   ],
   "source": [
    "AllMessages['Gender']"
   ]
  },
  {
   "cell_type": "code",
   "execution_count": 12,
   "metadata": {},
   "outputs": [],
   "source": [
    "AllMessages = AllMessages[(AllMessages.Gender == 'm') | (AllMessages.Gender == 'f')]"
   ]
  },
  {
   "cell_type": "code",
   "execution_count": 13,
   "metadata": {},
   "outputs": [
    {
     "name": "stdout",
     "output_type": "stream",
     "text": [
      "<class 'pandas.core.frame.DataFrame'>\n",
      "Int64Index: 5103468 entries, 0 to 5103595\n",
      "Data columns (total 5 columns):\n",
      " #   Column     Dtype \n",
      "---  ------     ----- \n",
      " 0   MessageID  object\n",
      " 1   Province   object\n",
      " 2   City       object\n",
      " 3   Gender     object\n",
      " 4   Message    object\n",
      "dtypes: object(5)\n",
      "memory usage: 233.6+ MB\n"
     ]
    }
   ],
   "source": [
    "AllMessages.info()"
   ]
  },
  {
   "cell_type": "markdown",
   "metadata": {},
   "source": [
    "### Changing Data Types\n",
    "The data types of each column of the data set need to be as following so that SnowNLP can be properly used to analyze the data.\n",
    "* `Gender`: binary (Male --> 1; Female --> 0)\n",
    "* `Province`: integer\n",
    "* `City`: integer\n",
    "* `MessageID`: integer\n",
    "* `Message`: unicode string"
   ]
  },
  {
   "cell_type": "code",
   "execution_count": 14,
   "metadata": {},
   "outputs": [],
   "source": [
    "# recode Gender as binary where male --> 1 and female --> 0\n",
    "gender = {'m': 1,'f': 0}\n",
    "\n",
    "AllMessages.Gender = [gender[item] for item in AllMessages.Gender]"
   ]
  },
  {
   "cell_type": "code",
   "execution_count": 15,
   "metadata": {},
   "outputs": [],
   "source": [
    "# change data type of Province, City, and MessageID from string to integer\n",
    "AllMessages['Province'] = pd.to_numeric(AllMessages['Province'], errors='ignore')\n",
    "AllMessages['City'] = pd.to_numeric(AllMessages['City'], errors='ignore')\n",
    "AllMessages['MessageID'] = pd.to_numeric(AllMessages['MessageID'], errors='ignore')"
   ]
  },
  {
   "cell_type": "code",
   "execution_count": 16,
   "metadata": {},
   "outputs": [],
   "source": [
    "# change data type of Message from str to unicode string to preserve special characters (Chinese characters)\n",
    "AllMessages['Message'] = AllMessages['Message'].astype('unicode')"
   ]
  },
  {
   "cell_type": "markdown",
   "metadata": {},
   "source": [
    "## Subsetting Data by Topic\n",
    "Now I have selected, cleaned for mis-parsed rows, and applied the correct data types to the full Leiden Weibo Corpus data set. Next I will individually write subsets of the full data set to CSV files which will represent Weibo Corpus pertaining to various topics with corresponding sentiment for each message. I have selected five topics based on an article published in [2013](https://www.chinainternetwatch.com/1899/top-15-most-popular-topics-on-weibo-2012/) by China Internet Watch listing topics widely blogged about on Sina Weibo in 2012. The topics include: the Olympics, Diaoyu/Senkaku Islands, gender types, success, and the government."
   ]
  },
  {
   "cell_type": "code",
   "execution_count": 99,
   "metadata": {},
   "outputs": [],
   "source": [
    "# filter rows for each subsetted data set based on topic related keywords\n",
    "lwc_olympics = AllMessages[AllMessages['Message'].str.contains(u'奥运会')].reset_index(drop=True)\n",
    "lwc_diaoyu = AllMessages[AllMessages['Message'].str.contains(u'钓鱼岛')].reset_index(drop=True)\n",
    "lwc_gtypes = AllMessages[AllMessages['Message'].str.contains(u'高富帅|白富美|剩女')].reset_index(drop=True)\n",
    "lwc_success = AllMessages[AllMessages['Message'].str.contains(u'屌丝')].reset_index(drop=True)\n",
    "lwc_government = AllMessages[AllMessages['Message'].str.contains(u'政治') & AllMessages['Message'].str.contains(u'腐败')].reset_index(drop=True)"
   ]
  },
  {
   "cell_type": "code",
   "execution_count": 100,
   "metadata": {},
   "outputs": [],
   "source": [
    "# list of all subsetted datasets\n",
    "datasets = [lwc_olympics, lwc_diaoyu, lwc_gtypes, lwc_success, lwc_government]"
   ]
  },
  {
   "cell_type": "markdown",
   "metadata": {},
   "source": [
    "### Adding Sentiment\n",
    "I use the `SnowNLP` Python library's `str.sentiments` function to add numerical sentiment calculations (0 to 1) for each message in each data set."
   ]
  },
  {
   "cell_type": "code",
   "execution_count": 101,
   "metadata": {},
   "outputs": [
    {
     "name": "stderr",
     "output_type": "stream",
     "text": [
      "C:\\Users\\hobbs\\Anaconda3\\lib\\site-packages\\ipykernel_launcher.py:8: SettingWithCopyWarning: \n",
      "A value is trying to be set on a copy of a slice from a DataFrame\n",
      "\n",
      "See the caveats in the documentation: https://pandas.pydata.org/pandas-docs/stable/user_guide/indexing.html#returning-a-view-versus-a-copy\n",
      "  \n"
     ]
    }
   ],
   "source": [
    "# import necessary library\n",
    "from snownlp import SnowNLP\n",
    "\n",
    "# adding sentiment for each row of each dataset\n",
    "for dataset in datasets:\n",
    "    dataset['Sentiment'] = SnowNLP(dataset['Message'])\n",
    "    for row in range(len(dataset)):\n",
    "        dataset['Sentiment'][row] = SnowNLP(dataset['Message'][row]).sentiments"
   ]
  },
  {
   "cell_type": "markdown",
   "metadata": {},
   "source": [
    "### Recoding Geographic Locations\n",
    "The [Leiden Weibo Corpus](http://lwc.daanvanesch.nl/) codes geographic location using numercial indicators that are not easily digestible at first glance. Using the location CSV files provided on the Leiden Weibo Corpus [Open Access Page](http://lwc.daanvanesch.nl/openaccess.php), I recode the message geographic locations accordingly."
   ]
  },
  {
   "cell_type": "code",
   "execution_count": 102,
   "metadata": {},
   "outputs": [],
   "source": [
    "# read data tables given my LWC as pandas df and assign column names\n",
    "df_prov = pd.read_table('meta_provinces.txt', sep=\",\", names=('Number', 'Province'), encoding='utf-8')\n",
    "df_city = pd.read_table('meta_cities.txt', sep=\",\", names=('ID', 'SWprovince', 'SWcity', 'City','Checksum', 'Latitude', 'Longitude', 'SWlocation', 'NumWords', 'NumDistinctWords'), encoding='utf-8')\n",
    "\n",
    "# convert necessary columns into Python dictionary\n",
    "provinces = dict([(i, j) for i, j in zip(df_prov.Number, df_prov.Province)])\n",
    "cities = dict([(i, j) for i, j in zip(df_city.SWcity, df_city.City)])"
   ]
  },
  {
   "cell_type": "code",
   "execution_count": 103,
   "metadata": {},
   "outputs": [],
   "source": [
    "# recode province for all datasets\n",
    "lwc_olympics['Province'] = [provinces[item] for item in lwc_olympics.Province]\n",
    "lwc_diaoyu['Province'] = [provinces[item] for item in lwc_diaoyu.Province]\n",
    "lwc_gtypes['Province'] = [provinces[item] for item in lwc_gtypes.Province]\n",
    "lwc_success['Province'] = [provinces[item] for item in lwc_success.Province] \n",
    "lwc_government['Province'] = [provinces[item] for item in lwc_government.Province]"
   ]
  },
  {
   "cell_type": "code",
   "execution_count": 104,
   "metadata": {},
   "outputs": [],
   "source": [
    "# recode city for all datasets\n",
    "lwc_olympics['City'] = [cities[item] for item in lwc_olympics.City]\n",
    "lwc_diaoyu['City'] = [cities[item] for item in lwc_diaoyu.City]\n",
    "lwc_gtypes['City'] = [cities[item] for item in lwc_gtypes.City]\n",
    "lwc_success['City'] = [cities[item] for item in lwc_success.City] \n",
    "lwc_government['City'] = [cities[item] for item in lwc_government.City]"
   ]
  },
  {
   "cell_type": "code",
   "execution_count": 107,
   "metadata": {},
   "outputs": [
    {
     "data": {
      "text/plain": [
       "{1: 'Unknown',\n",
       " 2: 'Unknown',\n",
       " 3: 'Unknown',\n",
       " 4: 'Unknown',\n",
       " 5: 'Unknown',\n",
       " 6: 'Unknown',\n",
       " 7: 'Unknown',\n",
       " 8: 'Unknown',\n",
       " 9: 'Unknown',\n",
       " 11: 'Unknown',\n",
       " 12: 'Unknown',\n",
       " 13: 'Unknown',\n",
       " 14: 'Unknown',\n",
       " 15: 'Unknown',\n",
       " 16: 'Unknown',\n",
       " 17: '嘉义县',\n",
       " 28: 'Unknown',\n",
       " 29: 'Unknown',\n",
       " 1000: 'Unknown',\n",
       " 10: 'Unknown',\n",
       " 21: 'Unknown',\n",
       " 23: 'Ruìshì 瑞士',\n",
       " 25: 'Unknown',\n",
       " 26: 'Fēnlán 芬兰',\n",
       " 27: 'Unknown',\n",
       " 22: 'Unknown',\n",
       " 24: 'Wūkèlán 乌克兰',\n",
       " 18: 'Unknown',\n",
       " 19: 'Unknown',\n",
       " 20: 'Unknown',\n",
       " 30: 'Bǐlìshí 比利时',\n",
       " 31: 'Nuówēi 挪威',\n",
       " 32: 'Unknown',\n",
       " 51: 'Unknown',\n",
       " 52: 'Unknown',\n",
       " 53: 'Yúnfú 云浮',\n",
       " 90: 'Unknown',\n",
       " 33: 'Bōlán 波兰',\n",
       " 34: 'Āgēntíng 阿根廷',\n",
       " 35: \"Bái'éluósī 白俄罗斯\",\n",
       " 36: 'Gēlúnbǐyà 哥伦比亚',\n",
       " 37: 'Gǔbā 古巴',\n",
       " 38: 'Āijí 埃及',\n",
       " 40: 'Xiōngyálì 匈牙利',\n",
       " 41: 'Yīlǎng 伊朗',\n",
       " 42: 'Měnggǔ 蒙古',\n",
       " 43: 'Mòxīgē 墨西哥',\n",
       " 81: 'Jiāngjīnshì 江津市',\n",
       " 82: 'Héchuānshì 合川市',\n",
       " 83: 'Unknown',\n",
       " 84: 'Nánchuānshì 南川市',\n",
       " 44: 'Pútáoyá 葡萄牙',\n",
       " 39: 'Xīlà 希腊',\n",
       " 45: 'Unknown',\n",
       " 46: \"Tǔ'ěrqí 土耳其\",\n",
       " 0: 'Unknown'}"
      ]
     },
     "execution_count": 107,
     "metadata": {},
     "output_type": "execute_result"
    }
   ],
   "source": [
    "cities"
   ]
  },
  {
   "cell_type": "code",
   "execution_count": null,
   "metadata": {},
   "outputs": [],
   "source": []
  }
 ],
 "metadata": {
  "kernelspec": {
   "display_name": "Python 3.7.6 64-bit ('base': conda)",
   "language": "python",
   "name": "python37664bitbasecondae1490f4aa9354e5b83a3f703fc46e1a5"
  },
  "language_info": {
   "codemirror_mode": {
    "name": "ipython",
    "version": 3
   },
   "file_extension": ".py",
   "mimetype": "text/x-python",
   "name": "python",
   "nbconvert_exporter": "python",
   "pygments_lexer": "ipython3",
   "version": "3.6.8"
  }
 },
 "nbformat": 4,
 "nbformat_minor": 4
}
