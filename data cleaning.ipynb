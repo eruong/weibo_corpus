{
 "cells": [
  {
   "cell_type": "markdown",
   "metadata": {},
   "source": [
    "# Data Cleaning\n",
    "In this notebook, I lay out the steps I took to properly read the full Leiden Weibo Corpus CSV file as a pandas dataframe and clean aspects of the data which include: selecting certain columns, removing extraneous characters, removing rows that were incorrectly parsed by `pandas.read_csv`, changing data types of the corpus, and writing subsets of the data to various CSV files for future analysis."
   ]
  },
  {
   "cell_type": "code",
   "execution_count": 2,
   "metadata": {},
   "outputs": [],
   "source": [
    "# import required libraries\n",
    "import pandas as pd\n",
    "import matplotlib.pyplot as plt\n",
    "import seaborn as sns\n",
    "import numpy as np\n",
    "sns.set(style=\"darkgrid\")"
   ]
  },
  {
   "cell_type": "code",
   "execution_count": 5,
   "metadata": {},
   "outputs": [],
   "source": [
    "# assign columns\n",
    "col_names = [\"col\" + str(i) for i in range(1,10)]\n",
    "# load full data set and convert csv \\N to NaN in pandas dataframe\n",
    "AllData = pd.read_csv('lwc_data\\parsed_messages.csv', quotechar='\\\"', names=col_names, na_values='\\\\N')"
   ]
  },
  {
   "cell_type": "code",
   "execution_count": 6,
   "metadata": {},
   "outputs": [
    {
     "data": {
      "text/html": [
       "<div>\n",
       "<style scoped>\n",
       "    .dataframe tbody tr th:only-of-type {\n",
       "        vertical-align: middle;\n",
       "    }\n",
       "\n",
       "    .dataframe tbody tr th {\n",
       "        vertical-align: top;\n",
       "    }\n",
       "\n",
       "    .dataframe thead th {\n",
       "        text-align: right;\n",
       "    }\n",
       "</style>\n",
       "<table border=\"1\" class=\"dataframe\">\n",
       "  <thead>\n",
       "    <tr style=\"text-align: right;\">\n",
       "      <th></th>\n",
       "      <th>col1</th>\n",
       "      <th>col2</th>\n",
       "      <th>col3</th>\n",
       "      <th>col4</th>\n",
       "      <th>col5</th>\n",
       "      <th>col6</th>\n",
       "      <th>col7</th>\n",
       "      <th>col8</th>\n",
       "      <th>col9</th>\n",
       "    </tr>\n",
       "  </thead>\n",
       "  <tbody>\n",
       "    <tr>\n",
       "      <th>0</th>\n",
       "      <td>\"3399658666084059\"</td>\n",
       "      <td>\"44\"</td>\n",
       "      <td>\"1\"</td>\n",
       "      <td>\"m\"</td>\n",
       "      <td>\"soulleoo\"</td>\n",
       "      <td>\"一分耕耘，一分收获！//@soulleoo 的小小乐园的最具吸引力乐园为5031，超过@败...</td>\n",
       "      <td>\"25\"</td>\n",
       "      <td>\"一 分 耕耘 ， 一 分 收获 ！ 的 小小 乐园 的 最 具 吸引力 乐园 为 5031...</td>\n",
       "      <td>\"一/CD 分/M 耕耘/VV ，/PU 一/CD 分/M 收获/NN ！/PU 的/DEG...</td>\n",
       "    </tr>\n",
       "    <tr>\n",
       "      <th>1</th>\n",
       "      <td>\"3399658666083922\"</td>\n",
       "      <td>\"35\"</td>\n",
       "      <td>\"1\"</td>\n",
       "      <td>\"m\"</td>\n",
       "      <td>\"Tony_Heqi\"</td>\n",
       "      <td>\"太给力了，是不是？//@Tony_Heqi 在达人麻将 获得了成就Good Job!，获取...</td>\n",
       "      <td>\"36\"</td>\n",
       "      <td>\"太 给力 了 ， 是 不 是 ？ 在 达人 麻将 获得 了 成就 Good Job ， 获...</td>\n",
       "      <td>\"太/AD 给力/VV 了/AS ，/PU 是/VC 不/AD 是/VC ？/PU 在/P ...</td>\n",
       "    </tr>\n",
       "    <tr>\n",
       "      <th>2</th>\n",
       "      <td>\"3399658665799759\"</td>\n",
       "      <td>\"44\"</td>\n",
       "      <td>\"8\"</td>\n",
       "      <td>\"f\"</td>\n",
       "      <td>\"謝秋如\"</td>\n",
       "      <td>\"3399658665799719\"</td>\n",
       "      <td>NaN</td>\n",
       "      <td>NaN</td>\n",
       "      <td>NaN</td>\n",
       "    </tr>\n",
       "    <tr>\n",
       "      <th>3</th>\n",
       "      <td>\"3399658665799554\"</td>\n",
       "      <td>\"44\"</td>\n",
       "      <td>\"3\"</td>\n",
       "      <td>\"m\"</td>\n",
       "      <td>\"yinjiawei\"</td>\n",
       "      <td>\"3399658665799504\"</td>\n",
       "      <td>NaN</td>\n",
       "      <td>NaN</td>\n",
       "      <td>NaN</td>\n",
       "    </tr>\n",
       "    <tr>\n",
       "      <th>4</th>\n",
       "      <td>\"3399658665575454\"</td>\n",
       "      <td>\"31\"</td>\n",
       "      <td>\"1000\"</td>\n",
       "      <td>\"m\"</td>\n",
       "      <td>\"Wings_of_Winds\"</td>\n",
       "      <td>\"为什么每次不在中国都会在他们家？@田鸡W @-RJ-爱喝乙醇的甲醇\"</td>\n",
       "      <td>\"12\"</td>\n",
       "      <td>\"为什么 每 次 不 在 中国 都 会 在 他们 家 ？\"</td>\n",
       "      <td>\"为什么/AD 每/DT 次/M 不/AD 在/P 中国/NR 都/AD 会/VV 在/P ...</td>\n",
       "    </tr>\n",
       "  </tbody>\n",
       "</table>\n",
       "</div>"
      ],
      "text/plain": [
       "                 col1  col2    col3 col4              col5  \\\n",
       "0  \"3399658666084059\"  \"44\"     \"1\"  \"m\"        \"soulleoo\"   \n",
       "1  \"3399658666083922\"  \"35\"     \"1\"  \"m\"       \"Tony_Heqi\"   \n",
       "2  \"3399658665799759\"  \"44\"     \"8\"  \"f\"             \"謝秋如\"   \n",
       "3  \"3399658665799554\"  \"44\"     \"3\"  \"m\"       \"yinjiawei\"   \n",
       "4  \"3399658665575454\"  \"31\"  \"1000\"  \"m\"  \"Wings_of_Winds\"   \n",
       "\n",
       "                                                col6  col7  \\\n",
       "0  \"一分耕耘，一分收获！//@soulleoo 的小小乐园的最具吸引力乐园为5031，超过@败...  \"25\"   \n",
       "1  \"太给力了，是不是？//@Tony_Heqi 在达人麻将 获得了成就Good Job!，获取...  \"36\"   \n",
       "2                                 \"3399658665799719\"   NaN   \n",
       "3                                 \"3399658665799504\"   NaN   \n",
       "4                \"为什么每次不在中国都会在他们家？@田鸡W @-RJ-爱喝乙醇的甲醇\"  \"12\"   \n",
       "\n",
       "                                                col8  \\\n",
       "0  \"一 分 耕耘 ， 一 分 收获 ！ 的 小小 乐园 的 最 具 吸引力 乐园 为 5031...   \n",
       "1  \"太 给力 了 ， 是 不 是 ？ 在 达人 麻将 获得 了 成就 Good Job ， 获...   \n",
       "2                                                NaN   \n",
       "3                                                NaN   \n",
       "4                      \"为什么 每 次 不 在 中国 都 会 在 他们 家 ？\"   \n",
       "\n",
       "                                                col9  \n",
       "0  \"一/CD 分/M 耕耘/VV ，/PU 一/CD 分/M 收获/NN ！/PU 的/DEG...  \n",
       "1  \"太/AD 给力/VV 了/AS ，/PU 是/VC 不/AD 是/VC ？/PU 在/P ...  \n",
       "2                                                NaN  \n",
       "3                                                NaN  \n",
       "4  \"为什么/AD 每/DT 次/M 不/AD 在/P 中国/NR 都/AD 会/VV 在/P ...  "
      ]
     },
     "execution_count": 6,
     "metadata": {},
     "output_type": "execute_result"
    }
   ],
   "source": [
    "AllData.head()"
   ]
  },
  {
   "cell_type": "markdown",
   "metadata": {},
   "source": [
    "These are the columns of the full data set as noted on the Leiden Weibo Corpus [website](http://lwc.daanvanesch.nl/openaccess.php)."
   ]
  },
  {
   "cell_type": "code",
   "execution_count": 8,
   "metadata": {},
   "outputs": [],
   "source": [
    "# rename columns\n",
    "AllData.columns = ['MessageID', 'Province', 'City', 'Gender', 'Username', 'Message', 'NumWords', 'WithWordBounds', 'POStags']"
   ]
  },
  {
   "cell_type": "code",
   "execution_count": 9,
   "metadata": {},
   "outputs": [
    {
     "data": {
      "text/html": [
       "<div>\n",
       "<style scoped>\n",
       "    .dataframe tbody tr th:only-of-type {\n",
       "        vertical-align: middle;\n",
       "    }\n",
       "\n",
       "    .dataframe tbody tr th {\n",
       "        vertical-align: top;\n",
       "    }\n",
       "\n",
       "    .dataframe thead th {\n",
       "        text-align: right;\n",
       "    }\n",
       "</style>\n",
       "<table border=\"1\" class=\"dataframe\">\n",
       "  <thead>\n",
       "    <tr style=\"text-align: right;\">\n",
       "      <th></th>\n",
       "      <th>MessageID</th>\n",
       "      <th>Province</th>\n",
       "      <th>City</th>\n",
       "      <th>Gender</th>\n",
       "      <th>Username</th>\n",
       "      <th>Message</th>\n",
       "      <th>NumWords</th>\n",
       "      <th>WithWordBounds</th>\n",
       "      <th>POStags</th>\n",
       "    </tr>\n",
       "  </thead>\n",
       "  <tbody>\n",
       "    <tr>\n",
       "      <th>0</th>\n",
       "      <td>\"3399658666084059\"</td>\n",
       "      <td>\"44\"</td>\n",
       "      <td>\"1\"</td>\n",
       "      <td>\"m\"</td>\n",
       "      <td>\"soulleoo\"</td>\n",
       "      <td>\"一分耕耘，一分收获！//@soulleoo 的小小乐园的最具吸引力乐园为5031，超过@败...</td>\n",
       "      <td>\"25\"</td>\n",
       "      <td>\"一 分 耕耘 ， 一 分 收获 ！ 的 小小 乐园 的 最 具 吸引力 乐园 为 5031...</td>\n",
       "      <td>\"一/CD 分/M 耕耘/VV ，/PU 一/CD 分/M 收获/NN ！/PU 的/DEG...</td>\n",
       "    </tr>\n",
       "    <tr>\n",
       "      <th>1</th>\n",
       "      <td>\"3399658666083922\"</td>\n",
       "      <td>\"35\"</td>\n",
       "      <td>\"1\"</td>\n",
       "      <td>\"m\"</td>\n",
       "      <td>\"Tony_Heqi\"</td>\n",
       "      <td>\"太给力了，是不是？//@Tony_Heqi 在达人麻将 获得了成就Good Job!，获取...</td>\n",
       "      <td>\"36\"</td>\n",
       "      <td>\"太 给力 了 ， 是 不 是 ？ 在 达人 麻将 获得 了 成就 Good Job ， 获...</td>\n",
       "      <td>\"太/AD 给力/VV 了/AS ，/PU 是/VC 不/AD 是/VC ？/PU 在/P ...</td>\n",
       "    </tr>\n",
       "    <tr>\n",
       "      <th>2</th>\n",
       "      <td>\"3399658665799759\"</td>\n",
       "      <td>\"44\"</td>\n",
       "      <td>\"8\"</td>\n",
       "      <td>\"f\"</td>\n",
       "      <td>\"謝秋如\"</td>\n",
       "      <td>\"3399658665799719\"</td>\n",
       "      <td>NaN</td>\n",
       "      <td>NaN</td>\n",
       "      <td>NaN</td>\n",
       "    </tr>\n",
       "    <tr>\n",
       "      <th>3</th>\n",
       "      <td>\"3399658665799554\"</td>\n",
       "      <td>\"44\"</td>\n",
       "      <td>\"3\"</td>\n",
       "      <td>\"m\"</td>\n",
       "      <td>\"yinjiawei\"</td>\n",
       "      <td>\"3399658665799504\"</td>\n",
       "      <td>NaN</td>\n",
       "      <td>NaN</td>\n",
       "      <td>NaN</td>\n",
       "    </tr>\n",
       "    <tr>\n",
       "      <th>4</th>\n",
       "      <td>\"3399658665575454\"</td>\n",
       "      <td>\"31\"</td>\n",
       "      <td>\"1000\"</td>\n",
       "      <td>\"m\"</td>\n",
       "      <td>\"Wings_of_Winds\"</td>\n",
       "      <td>\"为什么每次不在中国都会在他们家？@田鸡W @-RJ-爱喝乙醇的甲醇\"</td>\n",
       "      <td>\"12\"</td>\n",
       "      <td>\"为什么 每 次 不 在 中国 都 会 在 他们 家 ？\"</td>\n",
       "      <td>\"为什么/AD 每/DT 次/M 不/AD 在/P 中国/NR 都/AD 会/VV 在/P ...</td>\n",
       "    </tr>\n",
       "  </tbody>\n",
       "</table>\n",
       "</div>"
      ],
      "text/plain": [
       "            MessageID Province    City Gender          Username  \\\n",
       "0  \"3399658666084059\"     \"44\"     \"1\"    \"m\"        \"soulleoo\"   \n",
       "1  \"3399658666083922\"     \"35\"     \"1\"    \"m\"       \"Tony_Heqi\"   \n",
       "2  \"3399658665799759\"     \"44\"     \"8\"    \"f\"             \"謝秋如\"   \n",
       "3  \"3399658665799554\"     \"44\"     \"3\"    \"m\"       \"yinjiawei\"   \n",
       "4  \"3399658665575454\"     \"31\"  \"1000\"    \"m\"  \"Wings_of_Winds\"   \n",
       "\n",
       "                                             Message NumWords  \\\n",
       "0  \"一分耕耘，一分收获！//@soulleoo 的小小乐园的最具吸引力乐园为5031，超过@败...     \"25\"   \n",
       "1  \"太给力了，是不是？//@Tony_Heqi 在达人麻将 获得了成就Good Job!，获取...     \"36\"   \n",
       "2                                 \"3399658665799719\"      NaN   \n",
       "3                                 \"3399658665799504\"      NaN   \n",
       "4                \"为什么每次不在中国都会在他们家？@田鸡W @-RJ-爱喝乙醇的甲醇\"     \"12\"   \n",
       "\n",
       "                                      WithWordBounds  \\\n",
       "0  \"一 分 耕耘 ， 一 分 收获 ！ 的 小小 乐园 的 最 具 吸引力 乐园 为 5031...   \n",
       "1  \"太 给力 了 ， 是 不 是 ？ 在 达人 麻将 获得 了 成就 Good Job ， 获...   \n",
       "2                                                NaN   \n",
       "3                                                NaN   \n",
       "4                      \"为什么 每 次 不 在 中国 都 会 在 他们 家 ？\"   \n",
       "\n",
       "                                             POStags  \n",
       "0  \"一/CD 分/M 耕耘/VV ，/PU 一/CD 分/M 收获/NN ！/PU 的/DEG...  \n",
       "1  \"太/AD 给力/VV 了/AS ，/PU 是/VC 不/AD 是/VC ？/PU 在/P ...  \n",
       "2                                                NaN  \n",
       "3                                                NaN  \n",
       "4  \"为什么/AD 每/DT 次/M 不/AD 在/P 中国/NR 都/AD 会/VV 在/P ...  "
      ]
     },
     "execution_count": 9,
     "metadata": {},
     "output_type": "execute_result"
    }
   ],
   "source": [
    "AllData.head()"
   ]
  },
  {
   "cell_type": "code",
   "execution_count": 11,
   "metadata": {},
   "outputs": [
    {
     "data": {
      "text/html": [
       "<div>\n",
       "<style scoped>\n",
       "    .dataframe tbody tr th:only-of-type {\n",
       "        vertical-align: middle;\n",
       "    }\n",
       "\n",
       "    .dataframe tbody tr th {\n",
       "        vertical-align: top;\n",
       "    }\n",
       "\n",
       "    .dataframe thead th {\n",
       "        text-align: right;\n",
       "    }\n",
       "</style>\n",
       "<table border=\"1\" class=\"dataframe\">\n",
       "  <thead>\n",
       "    <tr style=\"text-align: right;\">\n",
       "      <th></th>\n",
       "      <th>MessageID</th>\n",
       "      <th>Province</th>\n",
       "      <th>City</th>\n",
       "      <th>Gender</th>\n",
       "      <th>Username</th>\n",
       "      <th>Message</th>\n",
       "      <th>NumWords</th>\n",
       "      <th>WithWordBounds</th>\n",
       "      <th>POStags</th>\n",
       "    </tr>\n",
       "  </thead>\n",
       "  <tbody>\n",
       "    <tr>\n",
       "      <th>5103591</th>\n",
       "      <td>\"3407331444661006\"</td>\n",
       "      <td>\"32\"</td>\n",
       "      <td>\"1\"</td>\n",
       "      <td>\"f\"</td>\n",
       "      <td>\"damondede\"</td>\n",
       "      <td>\"还是烦，我在烦恼什么却不清楚\"</td>\n",
       "      <td>NaN</td>\n",
       "      <td>NaN</td>\n",
       "      <td>NaN</td>\n",
       "    </tr>\n",
       "    <tr>\n",
       "      <th>5103592</th>\n",
       "      <td>\"3407331444404506\"</td>\n",
       "      <td>\"44\"</td>\n",
       "      <td>\"13\"</td>\n",
       "      <td>\"m\"</td>\n",
       "      <td>\"陈乐明_希望如此\"</td>\n",
       "      <td>\"呜呜！手手！掉扣了！！[泪][泪][衰]  今天吃一个苹果  手就掉扣了！一天一苹果医生接...</td>\n",
       "      <td>NaN</td>\n",
       "      <td>NaN</td>\n",
       "      <td>NaN</td>\n",
       "    </tr>\n",
       "    <tr>\n",
       "      <th>5103593</th>\n",
       "      <td>\"3407331444369205\"</td>\n",
       "      <td>\"11\"</td>\n",
       "      <td>\"1000\"</td>\n",
       "      <td>\"m\"</td>\n",
       "      <td>\"黄硕harry\"</td>\n",
       "      <td>\"-_</td>\n",
       "      <td>发现出处了，上微博的人不会不知道这个表情的....哈哈哈哈[喝多了]\"</td>\n",
       "      <td>NaN</td>\n",
       "      <td>NaN</td>\n",
       "    </tr>\n",
       "    <tr>\n",
       "      <th>5103594</th>\n",
       "      <td>\"3407331444369201\"</td>\n",
       "      <td>\"44\"</td>\n",
       "      <td>\"7\"</td>\n",
       "      <td>\"m\"</td>\n",
       "      <td>\"Long_love\"</td>\n",
       "      <td>\"分享图片[黑线]\"</td>\n",
       "      <td>NaN</td>\n",
       "      <td>NaN</td>\n",
       "      <td>NaN</td>\n",
       "    </tr>\n",
       "    <tr>\n",
       "      <th>5103595</th>\n",
       "      <td>\"3407331443121006\"</td>\n",
       "      <td>\"31\"</td>\n",
       "      <td>\"1000\"</td>\n",
       "      <td>\"f\"</td>\n",
       "      <td>\"极品ET\"</td>\n",
       "      <td>\"有种说法，25岁是个界限，这以后别轻易换恋人，因为性格已经定型，很难再与他人磨合。在看戏这...</td>\n",
       "      <td>NaN</td>\n",
       "      <td>NaN</td>\n",
       "      <td>NaN</td>\n",
       "    </tr>\n",
       "  </tbody>\n",
       "</table>\n",
       "</div>"
      ],
      "text/plain": [
       "                  MessageID Province    City Gender     Username  \\\n",
       "5103591  \"3407331444661006\"     \"32\"     \"1\"    \"f\"  \"damondede\"   \n",
       "5103592  \"3407331444404506\"     \"44\"    \"13\"    \"m\"   \"陈乐明_希望如此\"   \n",
       "5103593  \"3407331444369205\"     \"11\"  \"1000\"    \"m\"    \"黄硕harry\"   \n",
       "5103594  \"3407331444369201\"     \"44\"     \"7\"    \"m\"  \"Long_love\"   \n",
       "5103595  \"3407331443121006\"     \"31\"  \"1000\"    \"f\"       \"极品ET\"   \n",
       "\n",
       "                                                   Message  \\\n",
       "5103591                                   \"还是烦，我在烦恼什么却不清楚\"   \n",
       "5103592  \"呜呜！手手！掉扣了！！[泪][泪][衰]  今天吃一个苹果  手就掉扣了！一天一苹果医生接...   \n",
       "5103593                                                \"-_   \n",
       "5103594                                         \"分享图片[黑线]\"   \n",
       "5103595  \"有种说法，25岁是个界限，这以后别轻易换恋人，因为性格已经定型，很难再与他人磨合。在看戏这...   \n",
       "\n",
       "                                     NumWords WithWordBounds POStags  \n",
       "5103591                                   NaN            NaN     NaN  \n",
       "5103592                                   NaN            NaN     NaN  \n",
       "5103593   发现出处了，上微博的人不会不知道这个表情的....哈哈哈哈[喝多了]\"            NaN     NaN  \n",
       "5103594                                   NaN            NaN     NaN  \n",
       "5103595                                   NaN            NaN     NaN  "
      ]
     },
     "execution_count": 11,
     "metadata": {},
     "output_type": "execute_result"
    }
   ],
   "source": [
    "AllData.tail()"
   ]
  },
  {
   "cell_type": "markdown",
   "metadata": {},
   "source": [
    "## Various Cleaning Endeavors\n",
    "Some entries in the original CSV are strings with commas in them. This in turn appears to manifest as an error in how pandas reads the CSV file as a dataframe. This should be taken into account with all future assumptions of the data. \n",
    "\n",
    "### Subsetting the Data\n",
    "Going forward only the message and demographic data are important so I select the following columns."
   ]
  },
  {
   "cell_type": "code",
   "execution_count": 14,
   "metadata": {},
   "outputs": [],
   "source": [
    "# subset message and demographic data\n",
    "AllMessages = AllData[['Province', 'City', 'Gender', 'Message']]"
   ]
  },
  {
   "cell_type": "code",
   "execution_count": 15,
   "metadata": {},
   "outputs": [
    {
     "data": {
      "text/html": [
       "<div>\n",
       "<style scoped>\n",
       "    .dataframe tbody tr th:only-of-type {\n",
       "        vertical-align: middle;\n",
       "    }\n",
       "\n",
       "    .dataframe tbody tr th {\n",
       "        vertical-align: top;\n",
       "    }\n",
       "\n",
       "    .dataframe thead th {\n",
       "        text-align: right;\n",
       "    }\n",
       "</style>\n",
       "<table border=\"1\" class=\"dataframe\">\n",
       "  <thead>\n",
       "    <tr style=\"text-align: right;\">\n",
       "      <th></th>\n",
       "      <th>Province</th>\n",
       "      <th>City</th>\n",
       "      <th>Gender</th>\n",
       "      <th>Message</th>\n",
       "    </tr>\n",
       "  </thead>\n",
       "  <tbody>\n",
       "    <tr>\n",
       "      <th>0</th>\n",
       "      <td>\"44\"</td>\n",
       "      <td>\"1\"</td>\n",
       "      <td>\"m\"</td>\n",
       "      <td>\"一分耕耘，一分收获！//@soulleoo 的小小乐园的最具吸引力乐园为5031，超过@败...</td>\n",
       "    </tr>\n",
       "    <tr>\n",
       "      <th>1</th>\n",
       "      <td>\"35\"</td>\n",
       "      <td>\"1\"</td>\n",
       "      <td>\"m\"</td>\n",
       "      <td>\"太给力了，是不是？//@Tony_Heqi 在达人麻将 获得了成就Good Job!，获取...</td>\n",
       "    </tr>\n",
       "    <tr>\n",
       "      <th>2</th>\n",
       "      <td>\"44\"</td>\n",
       "      <td>\"8\"</td>\n",
       "      <td>\"f\"</td>\n",
       "      <td>\"3399658665799719\"</td>\n",
       "    </tr>\n",
       "    <tr>\n",
       "      <th>3</th>\n",
       "      <td>\"44\"</td>\n",
       "      <td>\"3\"</td>\n",
       "      <td>\"m\"</td>\n",
       "      <td>\"3399658665799504\"</td>\n",
       "    </tr>\n",
       "    <tr>\n",
       "      <th>4</th>\n",
       "      <td>\"31\"</td>\n",
       "      <td>\"1000\"</td>\n",
       "      <td>\"m\"</td>\n",
       "      <td>\"为什么每次不在中国都会在他们家？@田鸡W @-RJ-爱喝乙醇的甲醇\"</td>\n",
       "    </tr>\n",
       "  </tbody>\n",
       "</table>\n",
       "</div>"
      ],
      "text/plain": [
       "  Province    City Gender                                            Message\n",
       "0     \"44\"     \"1\"    \"m\"  \"一分耕耘，一分收获！//@soulleoo 的小小乐园的最具吸引力乐园为5031，超过@败...\n",
       "1     \"35\"     \"1\"    \"m\"  \"太给力了，是不是？//@Tony_Heqi 在达人麻将 获得了成就Good Job!，获取...\n",
       "2     \"44\"     \"8\"    \"f\"                                 \"3399658665799719\"\n",
       "3     \"44\"     \"3\"    \"m\"                                 \"3399658665799504\"\n",
       "4     \"31\"  \"1000\"    \"m\"                \"为什么每次不在中国都会在他们家？@田鸡W @-RJ-爱喝乙醇的甲醇\""
      ]
     },
     "execution_count": 15,
     "metadata": {},
     "output_type": "execute_result"
    }
   ],
   "source": [
    "AllMessages.head()"
   ]
  },
  {
   "cell_type": "markdown",
   "metadata": {},
   "source": [
    "### Removing Extraneous Characters\n",
    "In the original CSV file, each entry is encapsulate by double quotes (i.e. \"content\") despite being initialized as strings by default, thus, I strip these characters initially."
   ]
  },
  {
   "cell_type": "code",
   "execution_count": 22,
   "metadata": {},
   "outputs": [
    {
     "name": "stderr",
     "output_type": "stream",
     "text": [
      "C:\\Users\\hobbs\\Anaconda3\\lib\\site-packages\\ipykernel_launcher.py:2: SettingWithCopyWarning: \n",
      "A value is trying to be set on a copy of a slice from a DataFrame.\n",
      "Try using .loc[row_indexer,col_indexer] = value instead\n",
      "\n",
      "See the caveats in the documentation: https://pandas.pydata.org/pandas-docs/stable/user_guide/indexing.html#returning-a-view-versus-a-copy\n",
      "  \n",
      "C:\\Users\\hobbs\\Anaconda3\\lib\\site-packages\\ipykernel_launcher.py:3: SettingWithCopyWarning: \n",
      "A value is trying to be set on a copy of a slice from a DataFrame.\n",
      "Try using .loc[row_indexer,col_indexer] = value instead\n",
      "\n",
      "See the caveats in the documentation: https://pandas.pydata.org/pandas-docs/stable/user_guide/indexing.html#returning-a-view-versus-a-copy\n",
      "  This is separate from the ipykernel package so we can avoid doing imports until\n",
      "C:\\Users\\hobbs\\Anaconda3\\lib\\site-packages\\ipykernel_launcher.py:4: SettingWithCopyWarning: \n",
      "A value is trying to be set on a copy of a slice from a DataFrame.\n",
      "Try using .loc[row_indexer,col_indexer] = value instead\n",
      "\n",
      "See the caveats in the documentation: https://pandas.pydata.org/pandas-docs/stable/user_guide/indexing.html#returning-a-view-versus-a-copy\n",
      "  after removing the cwd from sys.path.\n",
      "C:\\Users\\hobbs\\Anaconda3\\lib\\site-packages\\ipykernel_launcher.py:5: SettingWithCopyWarning: \n",
      "A value is trying to be set on a copy of a slice from a DataFrame.\n",
      "Try using .loc[row_indexer,col_indexer] = value instead\n",
      "\n",
      "See the caveats in the documentation: https://pandas.pydata.org/pandas-docs/stable/user_guide/indexing.html#returning-a-view-versus-a-copy\n",
      "  \"\"\"\n"
     ]
    }
   ],
   "source": [
    "# remove extraneous double quotes \n",
    "AllMessages['Province'] = AllMessages['Province'].str.replace(\"\\\"\", \"\")\n",
    "AllMessages['City'] = AllMessages['City'].str.replace(\"\\\"\", \"\")\n",
    "AllMessages['Gender'] = AllMessages['Gender'].str.replace(\"\\\"\", \"\")\n",
    "AllMessages['Message'] = AllMessages['Message'].str.replace(\"\\\"\", \"\")"
   ]
  },
  {
   "cell_type": "code",
   "execution_count": 29,
   "metadata": {},
   "outputs": [
    {
     "data": {
      "text/html": [
       "<div>\n",
       "<style scoped>\n",
       "    .dataframe tbody tr th:only-of-type {\n",
       "        vertical-align: middle;\n",
       "    }\n",
       "\n",
       "    .dataframe tbody tr th {\n",
       "        vertical-align: top;\n",
       "    }\n",
       "\n",
       "    .dataframe thead th {\n",
       "        text-align: right;\n",
       "    }\n",
       "</style>\n",
       "<table border=\"1\" class=\"dataframe\">\n",
       "  <thead>\n",
       "    <tr style=\"text-align: right;\">\n",
       "      <th></th>\n",
       "      <th>Province</th>\n",
       "      <th>City</th>\n",
       "      <th>Gender</th>\n",
       "      <th>Message</th>\n",
       "    </tr>\n",
       "  </thead>\n",
       "  <tbody>\n",
       "    <tr>\n",
       "      <th>0</th>\n",
       "      <td>44</td>\n",
       "      <td>1</td>\n",
       "      <td>m</td>\n",
       "      <td>一分耕耘，一分收获！//@soulleoo 的小小乐园的最具吸引力乐园为5031，超过@败家...</td>\n",
       "    </tr>\n",
       "    <tr>\n",
       "      <th>1</th>\n",
       "      <td>35</td>\n",
       "      <td>1</td>\n",
       "      <td>m</td>\n",
       "      <td>太给力了，是不是？//@Tony_Heqi 在达人麻将 获得了成就Good Job!，获取速...</td>\n",
       "    </tr>\n",
       "    <tr>\n",
       "      <th>2</th>\n",
       "      <td>44</td>\n",
       "      <td>8</td>\n",
       "      <td>f</td>\n",
       "      <td>3399658665799719</td>\n",
       "    </tr>\n",
       "    <tr>\n",
       "      <th>3</th>\n",
       "      <td>44</td>\n",
       "      <td>3</td>\n",
       "      <td>m</td>\n",
       "      <td>3399658665799504</td>\n",
       "    </tr>\n",
       "    <tr>\n",
       "      <th>4</th>\n",
       "      <td>31</td>\n",
       "      <td>1000</td>\n",
       "      <td>m</td>\n",
       "      <td>为什么每次不在中国都会在他们家？@田鸡W @-RJ-爱喝乙醇的甲醇</td>\n",
       "    </tr>\n",
       "  </tbody>\n",
       "</table>\n",
       "</div>"
      ],
      "text/plain": [
       "  Province  City Gender                                            Message\n",
       "0       44     1      m  一分耕耘，一分收获！//@soulleoo 的小小乐园的最具吸引力乐园为5031，超过@败家...\n",
       "1       35     1      m  太给力了，是不是？//@Tony_Heqi 在达人麻将 获得了成就Good Job!，获取速...\n",
       "2       44     8      f                                   3399658665799719\n",
       "3       44     3      m                                   3399658665799504\n",
       "4       31  1000      m                  为什么每次不在中国都会在他们家？@田鸡W @-RJ-爱喝乙醇的甲醇"
      ]
     },
     "execution_count": 29,
     "metadata": {},
     "output_type": "execute_result"
    }
   ],
   "source": [
    "AllMessages.head()"
   ]
  },
  {
   "cell_type": "markdown",
   "metadata": {},
   "source": [
    "### Removing Misparsed Data\n",
    "Here I find that 128 rows were incorrectly read in pandas's read_csv function such that `Gender` is incorrectly coded."
   ]
  },
  {
   "cell_type": "code",
   "execution_count": 43,
   "metadata": {},
   "outputs": [
    {
     "data": {
      "text/plain": [
       "128"
      ]
     },
     "execution_count": 43,
     "metadata": {},
     "output_type": "execute_result"
    }
   ],
   "source": [
    "rows_todelete = []\n",
    "\n",
    "for i in range(len(genders)):\n",
    "    if genders[i] != 'm' and genders[i] != 'f':\n",
    "        rows_todelete += [i]\n",
    "        \n",
    "len(rows_todelete)"
   ]
  },
  {
   "cell_type": "markdown",
   "metadata": {},
   "source": [
    "The 128 incorrectly coded rows are insignificant compared to the at large 5103596 rows of data read from the CSV file, thus, I remove these rows for convenience in future analysis."
   ]
  },
  {
   "cell_type": "code",
   "execution_count": 56,
   "metadata": {
    "scrolled": true
   },
   "outputs": [
    {
     "data": {
      "text/plain": [
       "0          m\n",
       "1          m\n",
       "2          f\n",
       "3          m\n",
       "4          m\n",
       "          ..\n",
       "5103591    f\n",
       "5103592    m\n",
       "5103593    m\n",
       "5103594    m\n",
       "5103595    f\n",
       "Name: Gender, Length: 5103596, dtype: object"
      ]
     },
     "execution_count": 56,
     "metadata": {},
     "output_type": "execute_result"
    }
   ],
   "source": [
    "AllMessages['Gender']"
   ]
  },
  {
   "cell_type": "code",
   "execution_count": 59,
   "metadata": {},
   "outputs": [],
   "source": [
    "AllMessages = AllMessages[(AllMessages.Gender == 'm') | (AllMessages.Gender == 'f')]"
   ]
  },
  {
   "cell_type": "code",
   "execution_count": 60,
   "metadata": {},
   "outputs": [
    {
     "data": {
      "text/html": [
       "<div>\n",
       "<style scoped>\n",
       "    .dataframe tbody tr th:only-of-type {\n",
       "        vertical-align: middle;\n",
       "    }\n",
       "\n",
       "    .dataframe tbody tr th {\n",
       "        vertical-align: top;\n",
       "    }\n",
       "\n",
       "    .dataframe thead th {\n",
       "        text-align: right;\n",
       "    }\n",
       "</style>\n",
       "<table border=\"1\" class=\"dataframe\">\n",
       "  <thead>\n",
       "    <tr style=\"text-align: right;\">\n",
       "      <th></th>\n",
       "      <th>Province</th>\n",
       "      <th>City</th>\n",
       "      <th>Gender</th>\n",
       "      <th>Message</th>\n",
       "    </tr>\n",
       "  </thead>\n",
       "  <tbody>\n",
       "    <tr>\n",
       "      <th>0</th>\n",
       "      <td>44</td>\n",
       "      <td>1</td>\n",
       "      <td>m</td>\n",
       "      <td>一分耕耘，一分收获！//@soulleoo 的小小乐园的最具吸引力乐园为5031，超过@败家...</td>\n",
       "    </tr>\n",
       "    <tr>\n",
       "      <th>1</th>\n",
       "      <td>35</td>\n",
       "      <td>1</td>\n",
       "      <td>m</td>\n",
       "      <td>太给力了，是不是？//@Tony_Heqi 在达人麻将 获得了成就Good Job!，获取速...</td>\n",
       "    </tr>\n",
       "    <tr>\n",
       "      <th>2</th>\n",
       "      <td>44</td>\n",
       "      <td>8</td>\n",
       "      <td>f</td>\n",
       "      <td>3399658665799719</td>\n",
       "    </tr>\n",
       "    <tr>\n",
       "      <th>3</th>\n",
       "      <td>44</td>\n",
       "      <td>3</td>\n",
       "      <td>m</td>\n",
       "      <td>3399658665799504</td>\n",
       "    </tr>\n",
       "    <tr>\n",
       "      <th>4</th>\n",
       "      <td>31</td>\n",
       "      <td>1000</td>\n",
       "      <td>m</td>\n",
       "      <td>为什么每次不在中国都会在他们家？@田鸡W @-RJ-爱喝乙醇的甲醇</td>\n",
       "    </tr>\n",
       "    <tr>\n",
       "      <th>...</th>\n",
       "      <td>...</td>\n",
       "      <td>...</td>\n",
       "      <td>...</td>\n",
       "      <td>...</td>\n",
       "    </tr>\n",
       "    <tr>\n",
       "      <th>5103591</th>\n",
       "      <td>32</td>\n",
       "      <td>1</td>\n",
       "      <td>f</td>\n",
       "      <td>还是烦，我在烦恼什么却不清楚</td>\n",
       "    </tr>\n",
       "    <tr>\n",
       "      <th>5103592</th>\n",
       "      <td>44</td>\n",
       "      <td>13</td>\n",
       "      <td>m</td>\n",
       "      <td>呜呜！手手！掉扣了！！[泪][泪][衰]  今天吃一个苹果  手就掉扣了！一天一苹果医生接近...</td>\n",
       "    </tr>\n",
       "    <tr>\n",
       "      <th>5103593</th>\n",
       "      <td>11</td>\n",
       "      <td>1000</td>\n",
       "      <td>m</td>\n",
       "      <td>-_</td>\n",
       "    </tr>\n",
       "    <tr>\n",
       "      <th>5103594</th>\n",
       "      <td>44</td>\n",
       "      <td>7</td>\n",
       "      <td>m</td>\n",
       "      <td>分享图片[黑线]</td>\n",
       "    </tr>\n",
       "    <tr>\n",
       "      <th>5103595</th>\n",
       "      <td>31</td>\n",
       "      <td>1000</td>\n",
       "      <td>f</td>\n",
       "      <td>有种说法，25岁是个界限，这以后别轻易换恋人，因为性格已经定型，很难再与他人磨合。在看戏这件...</td>\n",
       "    </tr>\n",
       "  </tbody>\n",
       "</table>\n",
       "<p>5103468 rows × 4 columns</p>\n",
       "</div>"
      ],
      "text/plain": [
       "        Province  City Gender  \\\n",
       "0             44     1      m   \n",
       "1             35     1      m   \n",
       "2             44     8      f   \n",
       "3             44     3      m   \n",
       "4             31  1000      m   \n",
       "...          ...   ...    ...   \n",
       "5103591       32     1      f   \n",
       "5103592       44    13      m   \n",
       "5103593       11  1000      m   \n",
       "5103594       44     7      m   \n",
       "5103595       31  1000      f   \n",
       "\n",
       "                                                   Message  \n",
       "0        一分耕耘，一分收获！//@soulleoo 的小小乐园的最具吸引力乐园为5031，超过@败家...  \n",
       "1        太给力了，是不是？//@Tony_Heqi 在达人麻将 获得了成就Good Job!，获取速...  \n",
       "2                                         3399658665799719  \n",
       "3                                         3399658665799504  \n",
       "4                        为什么每次不在中国都会在他们家？@田鸡W @-RJ-爱喝乙醇的甲醇  \n",
       "...                                                    ...  \n",
       "5103591                                     还是烦，我在烦恼什么却不清楚  \n",
       "5103592  呜呜！手手！掉扣了！！[泪][泪][衰]  今天吃一个苹果  手就掉扣了！一天一苹果医生接近...  \n",
       "5103593                                                 -_  \n",
       "5103594                                           分享图片[黑线]  \n",
       "5103595  有种说法，25岁是个界限，这以后别轻易换恋人，因为性格已经定型，很难再与他人磨合。在看戏这件...  \n",
       "\n",
       "[5103468 rows x 4 columns]"
      ]
     },
     "execution_count": 60,
     "metadata": {},
     "output_type": "execute_result"
    }
   ],
   "source": [
    "AllMessages"
   ]
  },
  {
   "cell_type": "markdown",
   "metadata": {},
   "source": [
    "### Changing Data Types\n",
    "The data types of each column of the data set need to be as following so that SnowNLP can be properly used to analyze the data.\n",
    "* `Gender`: binary (Male --> 1; Female --> 0)\n",
    "* `Province`: integer\n",
    "* `City`: integer\n",
    "* `Message`: unicode string"
   ]
  },
  {
   "cell_type": "code",
   "execution_count": 61,
   "metadata": {},
   "outputs": [
    {
     "name": "stderr",
     "output_type": "stream",
     "text": [
      "C:\\Users\\hobbs\\Anaconda3\\lib\\site-packages\\pandas\\core\\generic.py:5303: SettingWithCopyWarning: \n",
      "A value is trying to be set on a copy of a slice from a DataFrame.\n",
      "Try using .loc[row_indexer,col_indexer] = value instead\n",
      "\n",
      "See the caveats in the documentation: https://pandas.pydata.org/pandas-docs/stable/user_guide/indexing.html#returning-a-view-versus-a-copy\n",
      "  self[name] = value\n"
     ]
    }
   ],
   "source": [
    "# recode Gender as binary where male --> 1 and female --> 0\n",
    "gender = {'m': 1,'f': 0}\n",
    "\n",
    "AllMessages.Gender = [gender[item] for item in AllMessages.Gender]"
   ]
  },
  {
   "cell_type": "code",
   "execution_count": 68,
   "metadata": {},
   "outputs": [
    {
     "name": "stderr",
     "output_type": "stream",
     "text": [
      "C:\\Users\\hobbs\\Anaconda3\\lib\\site-packages\\ipykernel_launcher.py:1: SettingWithCopyWarning: \n",
      "A value is trying to be set on a copy of a slice from a DataFrame.\n",
      "Try using .loc[row_indexer,col_indexer] = value instead\n",
      "\n",
      "See the caveats in the documentation: https://pandas.pydata.org/pandas-docs/stable/user_guide/indexing.html#returning-a-view-versus-a-copy\n",
      "  \"\"\"Entry point for launching an IPython kernel.\n",
      "C:\\Users\\hobbs\\Anaconda3\\lib\\site-packages\\ipykernel_launcher.py:2: SettingWithCopyWarning: \n",
      "A value is trying to be set on a copy of a slice from a DataFrame.\n",
      "Try using .loc[row_indexer,col_indexer] = value instead\n",
      "\n",
      "See the caveats in the documentation: https://pandas.pydata.org/pandas-docs/stable/user_guide/indexing.html#returning-a-view-versus-a-copy\n",
      "  \n"
     ]
    }
   ],
   "source": [
    "# change data type of Province and City from string to integer\n",
    "AllMessages['Province'] = pd.to_numeric(AllMessages['Province'], errors='ignore')\n",
    "AllMessages['City'] = pd.to_numeric(AllMessages['City'], errors='ignore')"
   ]
  },
  {
   "cell_type": "code",
   "execution_count": 70,
   "metadata": {},
   "outputs": [
    {
     "name": "stderr",
     "output_type": "stream",
     "text": [
      "C:\\Users\\hobbs\\Anaconda3\\lib\\site-packages\\ipykernel_launcher.py:1: SettingWithCopyWarning: \n",
      "A value is trying to be set on a copy of a slice from a DataFrame.\n",
      "Try using .loc[row_indexer,col_indexer] = value instead\n",
      "\n",
      "See the caveats in the documentation: https://pandas.pydata.org/pandas-docs/stable/user_guide/indexing.html#returning-a-view-versus-a-copy\n",
      "  \"\"\"Entry point for launching an IPython kernel.\n"
     ]
    }
   ],
   "source": [
    "# change data type of Message from str to unicode string to preserve special characters (Chinese characters)\n",
    "AllMessages['Message'] = AllMessages['Message'].astype('unicode')"
   ]
  },
  {
   "cell_type": "markdown",
   "metadata": {},
   "source": [
    "## Subsetting Data by Topic\n",
    "Now I have selected, cleaned for mis-parsed, and applied the correct data types to the full Leiden Weibo Corpus data set. Next I will individually write subsets of the full data set to CSV files which will represent Weibo Corpus pertaining to various topics."
   ]
  },
  {
   "cell_type": "code",
   "execution_count": 80,
   "metadata": {},
   "outputs": [
    {
     "name": "stdout",
     "output_type": "stream",
     "text": [
      "<class 'pandas.core.frame.DataFrame'>\n",
      "Int64Index: 5103468 entries, 0 to 5103595\n",
      "Data columns (total 4 columns):\n",
      " #   Column    Dtype \n",
      "---  ------    ----- \n",
      " 0   Province  int64 \n",
      " 1   City      int64 \n",
      " 2   Gender    int64 \n",
      " 3   Message   object\n",
      "dtypes: int64(3), object(1)\n",
      "memory usage: 194.7+ MB\n"
     ]
    }
   ],
   "source": [
    "AllMessages.info()"
   ]
  }
 ],
 "metadata": {
  "kernelspec": {
   "display_name": "Python 3.7.6 64-bit ('base': conda)",
   "language": "python",
   "name": "python37664bitbasecondae1490f4aa9354e5b83a3f703fc46e1a5"
  },
  "language_info": {
   "codemirror_mode": {
    "name": "ipython",
    "version": 3
   },
   "file_extension": ".py",
   "mimetype": "text/x-python",
   "name": "python",
   "nbconvert_exporter": "python",
   "pygments_lexer": "ipython3",
   "version": "3.6.8"
  }
 },
 "nbformat": 4,
 "nbformat_minor": 4
}
